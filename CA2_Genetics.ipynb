{
 "cells": [
  {
   "cell_type": "markdown",
   "id": "f61055e0",
   "metadata": {},
   "source": [
    "# Genetic Algorithm"
   ]
  },
  {
   "cell_type": "markdown",
   "id": "ef69798b",
   "metadata": {},
   "source": [
    "In this project, the aim is to solve a sudoku puzzle using the genetic algorithm"
   ]
  },
  {
   "cell_type": "code",
   "execution_count": 1,
   "id": "8bd63cc2",
   "metadata": {},
   "outputs": [],
   "source": [
    "import random as rndm\n",
    "import numpy as np"
   ]
  },
  {
   "cell_type": "markdown",
   "id": "6527cc01",
   "metadata": {},
   "source": [
    "## Part 1: Defining Genes and Chromosomes"
   ]
  },
  {
   "cell_type": "markdown",
   "id": "f44516b4",
   "metadata": {},
   "source": [
    "A gene is the value of a row and is a premutation of set {1 ... 9}. A chromosome consists of 9 genes, each gene representing a row of the actual sudoku puzzle.\n",
    "Reason TBA"
   ]
  },
  {
   "cell_type": "code",
   "execution_count": 32,
   "id": "62151fed",
   "metadata": {},
   "outputs": [],
   "source": [
    "def make_gene(initial=[0]*9):\n",
    "    mapp={}\n",
    "    gene=list(range(1,10));\n",
    "    rndm.shuffle(gene);\n",
    "    for i in range(9):\n",
    "        mapp[gene[i]]=i\n",
    "    for i in range(9):\n",
    "        if initial[i]!=0 and gene[i]!=initial[i]:\n",
    "            temp=gene[i],gene[mapp[initial[i]]]\n",
    "            gene[mapp[initial[i]]],gene[i]=temp\n",
    "            mapp[initial[i]],mapp[temp[0]]=i,mapp[initial[i]]\n",
    "    return gene;"
   ]
  },
  {
   "cell_type": "code",
   "execution_count": 33,
   "id": "61cc7916",
   "metadata": {},
   "outputs": [],
   "source": [
    "def make_chromosome(initial=[[0]*9]*9):\n",
    "    chromosome=[]\n",
    "    for i in range(9):\n",
    "        chromosome.append(make_gene(initial[i]));\n",
    "    return chromosome"
   ]
  },
  {
   "cell_type": "code",
   "execution_count": 34,
   "id": "db7b35ea",
   "metadata": {},
   "outputs": [
    {
     "name": "stdout",
     "output_type": "stream",
     "text": [
      "8 0 6 0 0 0 1 0 7 \n",
      "0 0 0 6 0 2 0 0 0 \n",
      "0 5 3 0 0 4 8 0 6 \n",
      "7 0 4 8 0 0 6 3 0 \n",
      "0 0 0 0 0 0 0 9 0 \n",
      "1 0 0 5 0 0 4 0 0 \n",
      "0 0 1 2 0 0 7 0 9 \n",
      "2 0 0 0 9 6 0 0 0 \n",
      "0 7 0 0 1 0 0 8 0 \n",
      "\n",
      "8 3 6 5 9 2 1 4 7 \n",
      "8 5 9 6 3 2 7 1 4 \n",
      "9 5 3 1 2 4 8 7 6 \n",
      "7 5 4 8 9 2 6 3 1 \n",
      "5 2 3 4 6 8 7 9 1 \n",
      "1 6 2 5 7 8 4 3 9 \n",
      "8 4 1 2 6 5 7 3 9 \n",
      "2 8 7 5 9 6 4 3 1 \n",
      "9 7 6 4 1 5 2 8 3 \n",
      "\n",
      "\n",
      "8 4 6 2 5 9 1 3 7 \n",
      "4 3 7 6 9 2 1 5 8 \n",
      "9 5 3 1 7 4 8 2 6 \n",
      "7 9 4 8 5 2 6 3 1 \n",
      "5 3 2 8 7 4 6 9 1 \n",
      "1 6 2 5 9 8 4 7 3 \n",
      "8 6 1 2 5 4 7 3 9 \n",
      "2 5 3 8 9 6 1 7 4 \n",
      "5 7 6 4 1 9 3 8 2 \n",
      "\n",
      "\n",
      "8 5 6 2 9 4 1 3 7 \n",
      "8 9 5 6 1 2 3 7 4 \n",
      "7 5 3 9 2 4 8 1 6 \n",
      "7 5 4 8 1 9 6 3 2 \n",
      "1 2 8 3 7 5 6 9 4 \n",
      "1 9 6 5 7 2 4 8 3 \n",
      "3 8 1 2 4 6 7 5 9 \n",
      "2 7 3 4 9 6 1 5 8 \n",
      "6 7 4 2 1 9 3 8 5 \n",
      "\n",
      "\n",
      "8 2 6 3 9 5 1 4 7 \n",
      "7 1 5 6 9 2 3 4 8 \n",
      "2 5 3 1 9 4 8 7 6 \n",
      "7 9 4 8 5 1 6 3 2 \n",
      "1 5 8 2 6 7 4 9 3 \n",
      "1 9 3 5 6 2 4 8 7 \n",
      "5 3 1 2 4 8 7 6 9 \n",
      "2 8 7 1 9 6 4 3 5 \n",
      "2 7 6 5 1 3 4 8 9 \n"
     ]
    }
   ],
   "source": [
    "c=[]\n",
    "for _ in range(9):\n",
    "    t=[]\n",
    "    for _ in range(9):\n",
    "        t.append(0)\n",
    "    c.append(t)\n",
    "        \n",
    "c[0][0]=1\n",
    "c[0][8]=9\n",
    "c[0][5]=5\n",
    "c[0]\n",
    "c[2][2]=4\n",
    "pch(moo)\n",
    "print()\n",
    "pch(make_chromosome(moo))\n",
    "print(\"\\n\")\n",
    "pch(make_chromosome(moo))\n",
    "print(\"\\n\")\n",
    "pch(make_chromosome(moo))\n",
    "print(\"\\n\")\n",
    "pch(make_chromosome(moo))"
   ]
  },
  {
   "cell_type": "markdown",
   "id": "be99629e",
   "metadata": {},
   "source": [
    "## Part 2: Making First Generation"
   ]
  },
  {
   "cell_type": "markdown",
   "id": "0e917e9c",
   "metadata": {},
   "source": [
    "In this part, a function is implemented to randomly create a population."
   ]
  },
  {
   "cell_type": "code",
   "execution_count": 5,
   "id": "72f50e5c",
   "metadata": {},
   "outputs": [],
   "source": [
    "POPULATION=10"
   ]
  },
  {
   "cell_type": "code",
   "execution_count": 6,
   "id": "ed4d7238",
   "metadata": {},
   "outputs": [],
   "source": [
    "def make_population(count,initial=[[0]*9]*9):\n",
    "    population=[]\n",
    "    for _ in range(count):\n",
    "        population.append(make_chromosome(initial))\n",
    "    return population"
   ]
  },
  {
   "cell_type": "code",
   "execution_count": 7,
   "id": "55aac15b",
   "metadata": {},
   "outputs": [
    {
     "name": "stdout",
     "output_type": "stream",
     "text": [
      "[[[1, 7, 2, 3, 8, 4, 6, 5, 9], [9, 7, 2, 1, 4, 3, 8, 5, 6], [7, 9, 4, 8, 2, 3, 1, 6, 5], [4, 7, 2, 3, 1, 9, 8, 6, 5], [1, 8, 2, 5, 4, 3, 7, 9, 6], [3, 9, 8, 4, 7, 2, 1, 5, 6], [2, 4, 6, 9, 1, 3, 5, 7, 8], [1, 3, 2, 7, 9, 5, 8, 6, 4], [5, 8, 4, 9, 1, 2, 3, 7, 6]], [[1, 7, 5, 6, 3, 2, 8, 4, 9], [7, 6, 4, 8, 9, 3, 2, 1, 5], [8, 7, 4, 1, 6, 3, 2, 5, 9], [7, 4, 2, 9, 1, 8, 3, 5, 6], [1, 2, 9, 7, 3, 8, 4, 5, 6], [8, 3, 7, 6, 5, 9, 1, 2, 4], [9, 2, 5, 8, 6, 7, 3, 4, 1], [8, 9, 1, 3, 2, 7, 4, 6, 5], [2, 9, 6, 8, 4, 3, 7, 1, 5]], [[1, 2, 4, 3, 7, 5, 8, 6, 9], [5, 4, 9, 8, 3, 7, 1, 6, 2], [9, 8, 4, 6, 3, 1, 2, 5, 7], [1, 6, 9, 5, 4, 2, 8, 3, 7], [8, 2, 1, 5, 9, 7, 6, 3, 4], [2, 4, 8, 3, 1, 9, 6, 7, 5], [2, 5, 4, 9, 8, 1, 6, 7, 3], [1, 5, 2, 7, 8, 4, 3, 6, 9], [1, 6, 7, 9, 4, 3, 5, 8, 2]], [[1, 4, 7, 5, 2, 3, 8, 6, 9], [5, 2, 8, 4, 6, 1, 7, 9, 3], [7, 9, 4, 1, 6, 3, 2, 5, 8], [6, 2, 7, 8, 9, 4, 5, 3, 1], [7, 6, 9, 1, 2, 4, 8, 3, 5], [5, 8, 7, 2, 3, 9, 1, 6, 4], [5, 7, 6, 8, 1, 3, 9, 2, 4], [6, 4, 8, 7, 2, 1, 3, 5, 9], [4, 6, 1, 9, 7, 2, 5, 3, 8]], [[1, 2, 5, 8, 6, 4, 3, 7, 9], [8, 3, 4, 7, 5, 9, 6, 1, 2], [6, 8, 4, 1, 3, 2, 9, 5, 7], [4, 8, 7, 9, 6, 5, 2, 1, 3], [9, 8, 5, 4, 3, 6, 1, 7, 2], [3, 5, 9, 8, 1, 6, 4, 7, 2], [9, 8, 7, 1, 2, 4, 3, 6, 5], [5, 7, 2, 6, 3, 9, 1, 4, 8], [9, 5, 6, 4, 7, 3, 1, 2, 8]], [[1, 4, 6, 2, 3, 8, 5, 7, 9], [3, 7, 9, 6, 8, 2, 5, 4, 1], [2, 8, 4, 7, 5, 1, 9, 3, 6], [4, 1, 6, 7, 3, 2, 5, 9, 8], [6, 9, 8, 5, 2, 7, 4, 3, 1], [4, 7, 3, 1, 8, 2, 6, 9, 5], [7, 2, 5, 1, 6, 8, 9, 4, 3], [3, 7, 8, 6, 9, 5, 4, 2, 1], [6, 8, 5, 9, 7, 2, 1, 3, 4]], [[1, 5, 4, 3, 2, 6, 7, 8, 9], [4, 9, 8, 7, 3, 6, 2, 1, 5], [8, 5, 4, 3, 1, 9, 7, 2, 6], [2, 1, 9, 5, 7, 3, 6, 4, 8], [9, 7, 1, 8, 2, 4, 5, 3, 6], [9, 3, 1, 5, 8, 6, 2, 4, 7], [6, 8, 9, 3, 2, 1, 7, 5, 4], [4, 5, 1, 9, 2, 3, 7, 8, 6], [1, 5, 3, 4, 6, 2, 9, 7, 8]], [[1, 8, 6, 4, 7, 3, 5, 2, 9], [6, 9, 7, 8, 4, 5, 2, 1, 3], [7, 6, 4, 8, 5, 1, 9, 2, 3], [7, 3, 9, 2, 4, 6, 1, 8, 5], [4, 8, 7, 2, 1, 9, 3, 5, 6], [1, 9, 4, 7, 3, 8, 5, 6, 2], [2, 1, 5, 9, 4, 7, 8, 6, 3], [2, 3, 1, 5, 7, 4, 9, 6, 8], [6, 7, 4, 9, 5, 3, 2, 8, 1]], [[1, 2, 8, 5, 7, 6, 4, 3, 9], [6, 1, 9, 2, 7, 4, 3, 5, 8], [3, 5, 4, 6, 9, 8, 2, 1, 7], [3, 8, 5, 2, 4, 1, 9, 6, 7], [6, 7, 2, 9, 5, 4, 3, 8, 1], [9, 7, 4, 8, 5, 6, 2, 3, 1], [3, 1, 2, 7, 9, 6, 5, 8, 4], [7, 5, 8, 3, 4, 1, 6, 2, 9], [6, 2, 4, 7, 3, 9, 5, 8, 1]], [[1, 3, 8, 4, 5, 6, 2, 7, 9], [3, 6, 4, 9, 8, 2, 5, 7, 1], [7, 6, 4, 2, 8, 9, 3, 5, 1], [2, 1, 7, 3, 6, 9, 4, 5, 8], [3, 9, 1, 4, 8, 2, 6, 5, 7], [5, 3, 9, 8, 2, 6, 4, 7, 1], [2, 3, 7, 4, 6, 8, 1, 5, 9], [2, 5, 3, 1, 6, 4, 8, 7, 9], [9, 5, 8, 4, 6, 2, 7, 3, 1]]]\n"
     ]
    }
   ],
   "source": [
    "print(make_population(POPULATION,c))"
   ]
  },
  {
   "cell_type": "markdown",
   "id": "2dce4969",
   "metadata": {},
   "source": [
    "## Part 3: Fitness Function"
   ]
  },
  {
   "cell_type": "markdown",
   "id": "dfe610a8",
   "metadata": {},
   "source": [
    "In this part, the fitness function is implemented to decide the better chromosomes"
   ]
  },
  {
   "cell_type": "code",
   "execution_count": 8,
   "id": "1342ab20",
   "metadata": {},
   "outputs": [],
   "source": [
    "def get_fitness(chromosome):\n",
    "    fitness=0\n",
    "    for i in range(9):\n",
    "        seen={}\n",
    "        for j in range(9):\n",
    "            if chromosome[j][i] in seen:\n",
    "                seen[chromosome[j][i]]+=1\n",
    "            else:\n",
    "                seen[chromosome[j][i]]=1\n",
    "        for key in seen :\n",
    "            fitness-=(seen[key]-1)\n",
    "        #for k in range(1,10):\n",
    "        #    if k not in seen:\n",
    "        #        fitness-=1;\n",
    "    for m in range(3):\n",
    "        for n in range(3):\n",
    "            seen={}\n",
    "            for i in range(3*(n),3*(n+1)):\n",
    "                for j in range(3*(m),3*(m+1)):\n",
    "                    if chromosome[j][i] in seen:\n",
    "                        seen[chromosome[j][i]]+=1\n",
    "                    else:\n",
    "                        seen[chromosome[j][i]]=1\n",
    "            for key in seen :\n",
    "                fitness-=(seen[key]-1)\n",
    "            #for k in range(1,10):\n",
    "            #    if k not in seen:\n",
    "            #        fitness-=1;\n",
    "    return fitness\n",
    "    "
   ]
  },
  {
   "cell_type": "code",
   "execution_count": 9,
   "id": "61981c27",
   "metadata": {},
   "outputs": [
    {
     "name": "stdout",
     "output_type": "stream",
     "text": [
      "-54\n"
     ]
    }
   ],
   "source": [
    "ch=make_chromosome()\n",
    "print(get_fitness(ch))\n",
    "def pch(ch):\n",
    "    for i in range(9):\n",
    "        for j in range(9):\n",
    "            print(ch[i][j],end=\" \")\n",
    "        print(\"\")\n",
    "    "
   ]
  },
  {
   "cell_type": "markdown",
   "id": "93131e6d",
   "metadata": {},
   "source": [
    "## Part 4: Crossover and Mutation"
   ]
  },
  {
   "cell_type": "markdown",
   "id": "6511133f",
   "metadata": {},
   "source": [
    "In this part, the crossover and mutation function is implemented to help in determining the next generation."
   ]
  },
  {
   "cell_type": "markdown",
   "id": "d76faf39",
   "metadata": {},
   "source": [
    "### Crossover"
   ]
  },
  {
   "cell_type": "markdown",
   "id": "bf3b894f",
   "metadata": {},
   "source": [
    "the corssover function takes two chromosomes as input and makes two new chromosomes by combining them."
   ]
  },
  {
   "cell_type": "code",
   "execution_count": 10,
   "id": "307e132f",
   "metadata": {},
   "outputs": [],
   "source": [
    "def crossover(ch1,ch2):\n",
    "    newch1=[]\n",
    "    newch2=[]\n",
    "    for i in range(9):\n",
    "        x=rndm.randint(0,1)\n",
    "        #print(x)\n",
    "        if(x==1):\n",
    "            newch1.append(ch1[i])\n",
    "            newch2.append(ch2[i])\n",
    "        elif(x==0):\n",
    "            newch2.append(ch1[i])\n",
    "            newch1.append(ch2[i])\n",
    "    return newch1,newch2"
   ]
  },
  {
   "cell_type": "code",
   "execution_count": 11,
   "id": "2b6975f0",
   "metadata": {},
   "outputs": [
    {
     "name": "stdout",
     "output_type": "stream",
     "text": [
      "8 6 1 9 5 3 2 4 7 \n",
      "2 3 9 4 8 6 5 7 1 \n",
      "6 1 4 5 2 3 7 9 8 \n",
      "4 3 6 2 1 9 8 7 5 \n",
      "8 1 6 7 5 3 9 2 4 \n",
      "9 8 7 3 2 6 1 4 5 \n",
      "1 4 6 7 2 9 5 8 3 \n",
      "4 8 7 5 6 2 9 1 3 \n",
      "8 6 5 7 2 9 1 3 4 \n",
      "\n",
      "\n",
      "9 8 7 3 2 6 1 5 4 \n",
      "5 8 2 9 7 6 1 4 3 \n",
      "5 3 1 7 8 4 9 6 2 \n",
      "6 2 4 8 1 3 9 7 5 \n",
      "1 3 2 7 4 9 8 6 5 \n",
      "7 2 5 9 8 4 1 6 3 \n",
      "7 5 3 2 8 4 9 1 6 \n",
      "1 2 5 9 7 6 3 8 4 \n",
      "8 4 5 2 6 9 3 7 1 \n",
      "\n",
      "\n",
      "9 8 7 3 2 6 1 5 4 \n",
      "5 8 2 9 7 6 1 4 3 \n",
      "5 3 1 7 8 4 9 6 2 \n",
      "6 2 4 8 1 3 9 7 5 \n",
      "1 3 2 7 4 9 8 6 5 \n",
      "9 8 7 3 2 6 1 4 5 \n",
      "7 5 3 2 8 4 9 1 6 \n",
      "1 2 5 9 7 6 3 8 4 \n",
      "8 6 5 7 2 9 1 3 4 \n",
      "\n",
      "\n",
      "8 6 1 9 5 3 2 4 7 \n",
      "2 3 9 4 8 6 5 7 1 \n",
      "6 1 4 5 2 3 7 9 8 \n",
      "4 3 6 2 1 9 8 7 5 \n",
      "8 1 6 7 5 3 9 2 4 \n",
      "7 2 5 9 8 4 1 6 3 \n",
      "1 4 6 7 2 9 5 8 3 \n",
      "4 8 7 5 6 2 9 1 3 \n",
      "8 4 5 2 6 9 3 7 1 \n"
     ]
    }
   ],
   "source": [
    "c=make_chromosome()\n",
    "d=make_chromosome()\n",
    "e,f=crossover(c,d)\n",
    "#print(e)\n",
    "pch(c)\n",
    "print(\"\\n\")\n",
    "pch(d)\n",
    "print(\"\\n\")\n",
    "pch(e)\n",
    "print(\"\\n\")\n",
    "pch(f)"
   ]
  },
  {
   "cell_type": "code",
   "execution_count": 12,
   "id": "c0a569f2",
   "metadata": {},
   "outputs": [],
   "source": [
    "P_M=0.1\n",
    "def mutation(ch,pm,initial):\n",
    "    for i in range(9):\n",
    "        x=rndm.randint(0,100)\n",
    "        #print(x)\n",
    "        if(x<pm*100):\n",
    "            ch[i]=make_gene(initial[i])\n",
    "    return ch"
   ]
  },
  {
   "cell_type": "code",
   "execution_count": 13,
   "id": "b7a904c9",
   "metadata": {},
   "outputs": [],
   "source": [
    "#c=make_chromosome()\n",
    "#pch(c)\n",
    "#d=mutation(c)\n",
    "#pch(d)"
   ]
  },
  {
   "cell_type": "markdown",
   "id": "d971e1b8",
   "metadata": {},
   "source": [
    "## Part 5: Implementing The Genetic Algorithm"
   ]
  },
  {
   "cell_type": "markdown",
   "id": "20705a46",
   "metadata": {},
   "source": [
    "In this part, we use the components defined in previous steps to write the genetic algorithm."
   ]
  },
  {
   "cell_type": "code",
   "execution_count": 14,
   "id": "8b8bd46c",
   "metadata": {},
   "outputs": [],
   "source": [
    "def read_puzzle(address):\n",
    "    puzzle=[]\n",
    "    f=open(address,'r')\n",
    "    for row in f:\n",
    "        temp=row.split()\n",
    "        puzzle.append([int(c) for c in temp])\n",
    "    return puzzle"
   ]
  },
  {
   "cell_type": "code",
   "execution_count": 30,
   "id": "416e93c8",
   "metadata": {},
   "outputs": [],
   "source": [
    "moo=read_puzzle(\"./SampleSudoku/Test1.txt\")"
   ]
  },
  {
   "cell_type": "code",
   "execution_count": 89,
   "id": "1a174465",
   "metadata": {},
   "outputs": [],
   "source": [
    "def r_get_mating_pool(population):\n",
    "    fitness_list=[]\n",
    "    pool=[]\n",
    "    for chromosome in population:\n",
    "        fitness_list.append((get_fitness(chromosome),chromosome))\n",
    "    fitness_list.sort()\n",
    "    #print(fitness_list)\n",
    "    weight=list(range(1,len(fitness_list)+1))\n",
    "    #print(weight)\n",
    "    for _ in range(len(population)):\n",
    "        ch=rndm.choices(fitness_list,weight)[0]\n",
    "        pool.append(ch[1])\n",
    "    return pool\n",
    "    "
   ]
  },
  {
   "cell_type": "code",
   "execution_count": 90,
   "id": "b472d7bf",
   "metadata": {},
   "outputs": [],
   "source": [
    "def w_get_mating_pool(population):\n",
    "    fitness_list=[]\n",
    "    pool=[]\n",
    "    for chromosome in population:\n",
    "        fitness_list.append((get_fitness(chromosome),chromosome))\n",
    "    #print(fitness_list)\n",
    "    weight=[fit[0]-fitness_list[0][0] for fit in fitness_list]\n",
    "    #print(weight)\n",
    "    for _ in range(len(population)):\n",
    "        ch=rndm.choices(fitness_list,weights=weight)[0]\n",
    "        pool.append(ch[1])\n",
    "    return pool\n",
    "    "
   ]
  },
  {
   "cell_type": "code",
   "execution_count": 63,
   "id": "036686f5",
   "metadata": {},
   "outputs": [
    {
     "name": "stdout",
     "output_type": "stream",
     "text": [
      "-4864\n",
      "******\n",
      "[0, 1, 2, 3, 3, 3, 3, 4, 4, 4, 4, 4, 5, 5, 5, 5, 5, 6, 6, 6, 6, 7, 7, 7, 7, 7, 7, 7, 7, 7, 7, 7, 8, 8, 8, 8, 8, 8, 9, 9, 9, 9, 9, 9, 9, 10, 10, 10, 10, 10, 10, 10, 10, 10, 10, 10, 10, 10, 10, 11, 11, 11, 11, 11, 11, 11, 11, 11, 11, 11, 11, 11, 11, 11, 11, 12, 12, 12, 12, 12, 12, 12, 12, 12, 13, 13, 13, 13, 13, 13, 13, 14, 14, 14, 15, 16, 16, 18, 18, 24]\n",
      "-4734\n",
      "******\n",
      "[0, 1, 1, 2, 2, 2, 3, 3, 3, 3, 3, 3, 3, 3, 3, 4, 4, 4, 4, 5, 5, 5, 5, 5, 5, 5, 6, 6, 6, 6, 6, 6, 6, 6, 6, 6, 6, 6, 6, 6, 6, 6, 6, 6, 6, 6, 6, 6, 6, 7, 7, 7, 7, 7, 7, 7, 7, 7, 7, 7, 7, 7, 7, 7, 7, 7, 7, 7, 7, 8, 8, 8, 8, 8, 8, 8, 8, 8, 8, 8, 9, 9, 9, 9, 9, 9, 9, 9, 9, 9, 9, 9, 10, 10, 10, 10, 12, 14, 20, 20]\n",
      "-4604\n",
      "******\n",
      "[0, 0, 0, 0, 1, 2, 2, 2, 2, 2, 3, 3, 3, 3, 3, 3, 3, 3, 3, 3, 3, 3, 3, 3, 3, 3, 3, 3, 3, 3, 3, 3, 3, 3, 3, 3, 3, 3, 3, 3, 3, 4, 4, 4, 4, 4, 4, 4, 4, 4, 4, 4, 4, 4, 4, 4, 4, 5, 5, 5, 5, 5, 5, 5, 5, 5, 5, 5, 5, 5, 6, 6, 6, 6, 6, 6, 6, 6, 6, 6, 6, 6, 6, 6, 6, 7, 7, 7, 7, 7, 7, 7, 11, 11, 17, 17, 17, 17, 17, 17]\n",
      "-4383\n",
      "******\n",
      "[0, 0, 0, 0, 1, 1, 1, 1, 1, 1, 1, 1, 1, 1, 1, 1, 1, 1, 1, 1, 2, 2, 2, 2, 2, 2, 2, 2, 2, 2, 2, 2, 2, 2, 3, 3, 3, 3, 3, 3, 3, 3, 3, 3, 3, 4, 4, 4, 4, 4, 4, 4, 4, 4, 4, 4, 4, 4, 4, 4, 4, 4, 4, 4, 4, 4, 4, 4, 4, 4, 5, 5, 5, 5, 5, 5, 5, 5, 9, 9, 9, 9, 9, 15, 15, 15, 15, 15, 15, 15, 15, 15, 15, 15, 15, 15, 15, 15, 15, 15]\n",
      "-3973\n",
      "******\n",
      "[0, 0, 0, 0, 1, 1, 1, 1, 1, 1, 1, 1, 1, 1, 2, 2, 2, 2, 3, 3, 3, 3, 3, 3, 3, 3, 3, 3, 3, 3, 3, 3, 3, 3, 3, 3, 3, 3, 3, 3, 3, 4, 4, 8, 8, 8, 8, 8, 8, 8, 8, 8, 8, 8, 14, 14, 14, 14, 14, 14, 14, 14, 14, 14, 14, 14, 14, 14, 14, 14, 14, 14, 14, 14, 14, 14, 14, 14, 14, 14, 14, 14, 14, 14, 14, 14, 14, 14, 14, 14, 14, 14, 14, 14, 14, 14, 14, 14, 14, 14]\n",
      "-3640\n",
      "******\n",
      "[0, 0, 0, 2, 2, 2, 2, 2, 2, 2, 2, 2, 2, 2, 3, 3, 7, 7, 7, 7, 7, 7, 7, 7, 7, 7, 13, 13, 13, 13, 13, 13, 13, 13, 13, 13, 13, 13, 13, 13, 13, 13, 13, 13, 13, 13, 13, 13, 13, 13, 13, 13, 13, 13, 13, 13, 13, 13, 13, 13, 13, 13, 13, 13, 13, 13, 13, 13, 13, 13, 13, 13, 13, 13, 13, 13, 13, 13, 13, 13, 13, 13, 13, 13, 13, 13, 13, 13, 13, 13, 13, 13, 13, 13, 13, 13, 13, 13, 13, 13]\n",
      "-3458\n",
      "******\n",
      "[0, 0, 5, 5, 5, 5, 5, 5, 11, 11, 11, 11, 11, 11, 11, 11, 11, 11, 11, 11, 11, 11, 11, 11, 11, 11, 11, 11, 11, 11, 11, 11, 11, 11, 11, 11, 11, 11, 11, 11, 11, 11, 11, 11, 11, 11, 11, 11, 11, 11, 11, 11, 11, 11, 11, 11, 11, 11, 11, 11, 11, 11, 11, 11, 11, 11, 11, 11, 11, 11, 11, 11, 11, 11, 11, 11, 11, 11, 11, 11, 11, 11, 11, 11, 11, 11, 11, 11, 11, 11, 11, 11, 11, 11, 11, 11, 11, 11, 11, 11]\n",
      "-3436\n",
      "******\n",
      "[0, 0, 0, 0, 0, 0, 6, 6, 6, 6, 6, 6, 6, 6, 6, 6, 6, 6, 6, 6, 6, 6, 6, 6, 6, 6, 6, 6, 6, 6, 6, 6, 6, 6, 6, 6, 6, 6, 6, 6, 6, 6, 6, 6, 6, 6, 6, 6, 6, 6, 6, 6, 6, 6, 6, 6, 6, 6, 6, 6, 6, 6, 6, 6, 6, 6, 6, 6, 6, 6, 6, 6, 6, 6, 6, 6, 6, 6, 6, 6, 6, 6, 6, 6, 6, 6, 6, 6, 6, 6, 6, 6, 6, 6, 6, 6, 6, 6, 6, 6]\n",
      "-3400\n",
      "******\n",
      "[0, 0, 0, 0, 0, 0, 0, 0, 0, 0, 0, 0, 0, 0, 0, 0, 0, 0, 0, 0, 0, 0, 0, 0, 0, 0, 0, 0, 0, 0, 0, 0, 0, 0, 0, 0, 0, 0, 0, 0, 0, 0, 0, 0, 0, 0, 0, 0, 0, 0, 0, 0, 0, 0, 0, 0, 0, 0, 0, 0, 0, 0, 0, 0, 0, 0, 0, 0, 0, 0, 0, 0, 0, 0, 0, 0, 0, 0, 0, 0, 0, 0, 0, 0, 0, 0, 0, 0, 0, 0, 0, 0, 0, 0, 0, 0, 0, 0, 0, 0]\n",
      "-3400\n",
      "******\n",
      "[0, 0, 0, 0, 0, 0, 0, 0, 0, 0, 0, 0, 0, 0, 0, 0, 0, 0, 0, 0, 0, 0, 0, 0, 0, 0, 0, 0, 0, 0, 0, 0, 0, 0, 0, 0, 0, 0, 0, 0, 0, 0, 0, 0, 0, 0, 0, 0, 0, 0, 0, 0, 0, 0, 0, 0, 0, 0, 0, 0, 0, 0, 0, 0, 0, 0, 0, 0, 0, 0, 0, 0, 0, 0, 0, 0, 0, 0, 0, 0, 0, 0, 0, 0, 0, 0, 0, 0, 0, 0, 0, 0, 0, 0, 0, 0, 0, 0, 0, 0]\n",
      "-3400\n",
      "******\n",
      "[0, 0, 0, 0, 0, 0, 0, 0, 0, 0, 0, 0, 0, 0, 0, 0, 0, 0, 0, 0, 0, 0, 0, 0, 0, 0, 0, 0, 0, 0, 0, 0, 0, 0, 0, 0, 0, 0, 0, 0, 0, 0, 0, 0, 0, 0, 0, 0, 0, 0, 0, 0, 0, 0, 0, 0, 0, 0, 0, 0, 0, 0, 0, 0, 0, 0, 0, 0, 0, 0, 0, 0, 0, 0, 0, 0, 0, 0, 0, 0, 0, 0, 0, 0, 0, 0, 0, 0, 0, 0, 0, 0, 0, 0, 0, 0, 0, 0, 0, 0]\n",
      "-3400\n",
      "******\n",
      "[0, 0, 0, 0, 0, 0, 0, 0, 0, 0, 0, 0, 0, 0, 0, 0, 0, 0, 0, 0, 0, 0, 0, 0, 0, 0, 0, 0, 0, 0, 0, 0, 0, 0, 0, 0, 0, 0, 0, 0, 0, 0, 0, 0, 0, 0, 0, 0, 0, 0, 0, 0, 0, 0, 0, 0, 0, 0, 0, 0, 0, 0, 0, 0, 0, 0, 0, 0, 0, 0, 0, 0, 0, 0, 0, 0, 0, 0, 0, 0, 0, 0, 0, 0, 0, 0, 0, 0, 0, 0, 0, 0, 0, 0, 0, 0, 0, 0, 0, 0]\n",
      "-3400\n",
      "******\n",
      "[0, 0, 0, 0, 0, 0, 0, 0, 0, 0, 0, 0, 0, 0, 0, 0, 0, 0, 0, 0, 0, 0, 0, 0, 0, 0, 0, 0, 0, 0, 0, 0, 0, 0, 0, 0, 0, 0, 0, 0, 0, 0, 0, 0, 0, 0, 0, 0, 0, 0, 0, 0, 0, 0, 0, 0, 0, 0, 0, 0, 0, 0, 0, 0, 0, 0, 0, 0, 0, 0, 0, 0, 0, 0, 0, 0, 0, 0, 0, 0, 0, 0, 0, 0, 0, 0, 0, 0, 0, 0, 0, 0, 0, 0, 0, 0, 0, 0, 0, 0]\n",
      "-3400\n",
      "******\n"
     ]
    }
   ],
   "source": [
    "x=make_population(100,moo)\n",
    "sum=0\n",
    "for p in x:\n",
    "    #pch(p)\n",
    "    o=get_fitness(p)\n",
    "    sum+=o\n",
    "print(sum)\n",
    "print(\"******\")\n",
    "x=w_get_mating_pool(x)\n",
    "sum=0\n",
    "for p in x:\n",
    "    #pch(p)\n",
    "    o=get_fitness(p)\n",
    "    sum+=o\n",
    "print(sum)\n",
    "print(\"******\")\n",
    "x=w_get_mating_pool(x)\n",
    "sum=0\n",
    "for p in x:\n",
    "    #pch(p)\n",
    "    o=get_fitness(p)\n",
    "    sum+=o\n",
    "print(sum)\n",
    "print(\"******\")\n",
    "x=w_get_mating_pool(x)\n",
    "sum=0\n",
    "for p in x:\n",
    "    #pch(p)\n",
    "    o=get_fitness(p)\n",
    "    sum+=o\n",
    "print(sum)\n",
    "print(\"******\")\n",
    "x=w_get_mating_pool(x)\n",
    "sum=0\n",
    "for p in x:\n",
    "    #pch(p)\n",
    "    o=get_fitness(p)\n",
    "    sum+=o\n",
    "print(sum)\n",
    "print(\"******\")\n",
    "x=w_get_mating_pool(x)\n",
    "sum=0\n",
    "for p in x:\n",
    "    #pch(p)\n",
    "    o=get_fitness(p)\n",
    "    sum+=o\n",
    "print(sum)\n",
    "print(\"******\")\n",
    "x=w_get_mating_pool(x)\n",
    "sum=0\n",
    "for p in x:\n",
    "    #pch(p)\n",
    "    o=get_fitness(p)\n",
    "    sum+=o\n",
    "print(sum)\n",
    "print(\"******\")\n",
    "x=w_get_mating_pool(x)\n",
    "sum=0\n",
    "for p in x:\n",
    "    #pch(p)\n",
    "    o=get_fitness(p)\n",
    "    sum+=o\n",
    "print(sum)\n",
    "print(\"******\")\n",
    "x=w_get_mating_pool(x)\n",
    "sum=0\n",
    "for p in x:\n",
    "    #pch(p)\n",
    "    o=get_fitness(p)\n",
    "    sum+=o\n",
    "print(sum)\n",
    "print(\"******\")\n",
    "x=w_get_mating_pool(x)\n",
    "sum=0\n",
    "for p in x:\n",
    "    #pch(p)\n",
    "    o=get_fitness(p)\n",
    "    sum+=o\n",
    "print(sum)\n",
    "print(\"******\")\n",
    "x=w_get_mating_pool(x)\n",
    "sum=0\n",
    "for p in x:\n",
    "    #pch(p)\n",
    "    o=get_fitness(p)\n",
    "    sum+=o\n",
    "print(sum)\n",
    "print(\"******\")\n",
    "x=w_get_mating_pool(x)\n",
    "sum=0\n",
    "for p in x:\n",
    "    #pch(p)\n",
    "    o=get_fitness(p)\n",
    "    sum+=o\n",
    "print(sum)\n",
    "print(\"******\")\n",
    "x=w_get_mating_pool(x)\n",
    "sum=0\n",
    "for p in x:\n",
    "    #pch(p)\n",
    "    o=get_fitness(p)\n",
    "    sum+=o\n",
    "print(sum)\n",
    "print(\"******\")\n",
    "x=w_get_mating_pool(x)\n",
    "sum=0\n",
    "for p in x:\n",
    "    #pch(p)\n",
    "    o=get_fitness(p)\n",
    "    sum+=o\n",
    "print(sum)\n",
    "print(\"******\")"
   ]
  },
  {
   "cell_type": "code",
   "execution_count": 19,
   "id": "940efad6",
   "metadata": {},
   "outputs": [],
   "source": [
    "def get_offsprings(population,initial,pm,pc):\n",
    "    new_pool=[]\n",
    "    i=0\n",
    "    while i<len(population):\n",
    "        ch1=population[i]\n",
    "        ch2=population[(i+1)%len(population)]\n",
    "        x=rndm.randint(0,100)\n",
    "        if(x<pc*100):\n",
    "            ch1,ch2=crossover(ch1,ch2)\n",
    "        new_pool.append(mutation(ch1,pm,initial))\n",
    "        new_pool.append(mutation(ch2,pm,initial))\n",
    "        i+=2\n",
    "    return new_pool"
   ]
  },
  {
   "cell_type": "code",
   "execution_count": 107,
   "id": "48c2ab46",
   "metadata": {},
   "outputs": [],
   "source": [
    "POPULATION=1000\n",
    "REPEATATION=1000\n",
    "PM=0.1\n",
    "PC=0.95\n",
    "def genetic_algorithm():\n",
    "    initial=read_puzzle(\"./SampleSudoku/Test1.txt\")\n",
    "    population=make_population(POPULATION,initial)\n",
    "    for _ in range(REPEATATION):\n",
    "        mating_pool=r_get_mating_pool(population)\n",
    "        rndm.shuffle(mating_pool);\n",
    "        population=get_offsprings(mating_pool,initial,PM,PC)\n",
    "    return population"
   ]
  },
  {
   "cell_type": "code",
   "execution_count": 108,
   "id": "b7e87022",
   "metadata": {},
   "outputs": [
    {
     "name": "stdout",
     "output_type": "stream",
     "text": [
      "0\n",
      "8 2 6 9 3 5 1 4 7 \n",
      "4 1 7 6 8 2 9 5 3 \n",
      "9 5 3 1 7 4 8 2 6 \n",
      "7 9 4 8 2 1 6 3 5 \n",
      "5 6 8 3 4 7 2 9 1 \n",
      "1 3 2 5 6 9 4 7 8 \n",
      "3 4 1 2 5 8 7 6 9 \n",
      "2 8 5 7 9 6 3 1 4 \n",
      "6 7 9 4 1 3 5 8 2 \n"
     ]
    }
   ],
   "source": [
    "r=genetic_algorithm()\n",
    "fit=[get_fitness(c) for c in r]\n",
    "m=max(fit)\n",
    "print(max(fit))\n",
    "for c in r:\n",
    "    if get_fitness(c)==m:\n",
    "        pch(c)\n",
    "        break"
   ]
  },
  {
   "cell_type": "markdown",
   "id": "3860bc3d",
   "metadata": {},
   "source": [
    "## Part 6: Questions"
   ]
  },
  {
   "cell_type": "code",
   "execution_count": null,
   "id": "267cccc2",
   "metadata": {},
   "outputs": [],
   "source": []
  }
 ],
 "metadata": {
  "kernelspec": {
   "display_name": "Python 3 (ipykernel)",
   "language": "python",
   "name": "python3"
  },
  "language_info": {
   "codemirror_mode": {
    "name": "ipython",
    "version": 3
   },
   "file_extension": ".py",
   "mimetype": "text/x-python",
   "name": "python",
   "nbconvert_exporter": "python",
   "pygments_lexer": "ipython3",
   "version": "3.8.10"
  }
 },
 "nbformat": 4,
 "nbformat_minor": 5
}
