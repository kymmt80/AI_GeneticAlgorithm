{
 "cells": [
  {
   "cell_type": "markdown",
   "id": "f61055e0",
   "metadata": {},
   "source": [
    "# Genetic Algorithm"
   ]
  },
  {
   "cell_type": "markdown",
   "id": "ef69798b",
   "metadata": {},
   "source": [
    "In this project, the aim is to solve a sudoku puzzle using the genetic algorithm"
   ]
  },
  {
   "cell_type": "code",
   "execution_count": 10,
   "id": "8bd63cc2",
   "metadata": {},
   "outputs": [],
   "source": [
    "import random as rndm\n",
    "import numpy as np"
   ]
  },
  {
   "cell_type": "markdown",
   "id": "6527cc01",
   "metadata": {},
   "source": [
    "## Part 1: Defining Genes and Chromosomes"
   ]
  },
  {
   "cell_type": "markdown",
   "id": "f44516b4",
   "metadata": {},
   "source": [
    "A gene is the value of a row and is a premutation of set {1 ... 9}. A chromosome consists of 9 genes, each gene representing a row of the actual sudoku puzzle.\n",
    "Reason TBA"
   ]
  },
  {
   "cell_type": "code",
   "execution_count": 17,
   "id": "62151fed",
   "metadata": {},
   "outputs": [],
   "source": [
    "def make_gene():\n",
    "    gene=list(range(1,10));\n",
    "    rndm.shuffle(gene);\n",
    "    return gene;"
   ]
  },
  {
   "cell_type": "code",
   "execution_count": 18,
   "id": "61cc7916",
   "metadata": {},
   "outputs": [],
   "source": [
    "def make_chromosome():\n",
    "    chromosome=[]\n",
    "    for _ in range(9):\n",
    "        chromosome.append(make_gene());\n",
    "    return chromosome"
   ]
  },
  {
   "cell_type": "code",
   "execution_count": 19,
   "id": "db7b35ea",
   "metadata": {},
   "outputs": [
    {
     "name": "stdout",
     "output_type": "stream",
     "text": [
      "[[9, 7, 6, 8, 5, 4, 1, 3, 2], [7, 6, 9, 8, 3, 1, 4, 5, 2], [8, 4, 9, 6, 1, 5, 2, 7, 3], [2, 8, 7, 4, 3, 9, 6, 5, 1], [3, 1, 4, 5, 6, 7, 9, 2, 8], [9, 1, 4, 7, 3, 6, 2, 8, 5], [2, 4, 3, 6, 9, 5, 1, 7, 8], [4, 1, 8, 2, 3, 5, 7, 6, 9], [5, 2, 9, 3, 8, 7, 4, 6, 1]]\n"
     ]
    }
   ],
   "source": [
    "print(make_chromosome())"
   ]
  },
  {
   "cell_type": "markdown",
   "id": "be99629e",
   "metadata": {},
   "source": [
    "## Part 2: Making First Generation"
   ]
  },
  {
   "cell_type": "markdown",
   "id": "0e917e9c",
   "metadata": {},
   "source": [
    "In this part, a function is implemented to randomly create a population."
   ]
  },
  {
   "cell_type": "code",
   "execution_count": 22,
   "id": "72f50e5c",
   "metadata": {},
   "outputs": [],
   "source": [
    "POPULATION=10"
   ]
  },
  {
   "cell_type": "code",
   "execution_count": 26,
   "id": "ed4d7238",
   "metadata": {},
   "outputs": [],
   "source": [
    "def make_population(count):\n",
    "    population=[]\n",
    "    for _ in range(count):\n",
    "        population.append(make_chromosome())\n",
    "    return population"
   ]
  },
  {
   "cell_type": "code",
   "execution_count": 28,
   "id": "55aac15b",
   "metadata": {},
   "outputs": [
    {
     "name": "stdout",
     "output_type": "stream",
     "text": [
      "[[[4, 6, 7, 2, 9, 5, 3, 8, 1], [5, 4, 3, 9, 2, 6, 7, 8, 1], [7, 1, 2, 6, 3, 8, 4, 9, 5], [9, 7, 8, 3, 1, 5, 4, 2, 6], [1, 5, 6, 3, 7, 9, 4, 2, 8], [3, 8, 2, 4, 6, 7, 9, 1, 5], [4, 7, 2, 8, 3, 5, 6, 9, 1], [6, 4, 8, 2, 7, 5, 3, 9, 1], [2, 9, 1, 7, 8, 6, 5, 4, 3]], [[7, 8, 9, 3, 1, 4, 5, 6, 2], [1, 7, 4, 2, 5, 9, 3, 6, 8], [4, 2, 7, 9, 5, 1, 8, 6, 3], [4, 6, 5, 8, 3, 7, 1, 9, 2], [6, 8, 7, 3, 5, 4, 2, 9, 1], [3, 6, 8, 4, 5, 7, 2, 1, 9], [2, 4, 7, 5, 1, 9, 8, 6, 3], [7, 9, 5, 3, 4, 6, 8, 2, 1], [2, 9, 6, 8, 4, 3, 7, 5, 1]], [[3, 8, 5, 1, 2, 9, 6, 4, 7], [1, 8, 3, 5, 6, 4, 7, 9, 2], [6, 4, 3, 2, 7, 5, 1, 9, 8], [4, 2, 1, 3, 7, 5, 6, 8, 9], [9, 2, 6, 7, 1, 4, 3, 5, 8], [1, 2, 4, 8, 5, 6, 3, 7, 9], [8, 2, 9, 1, 6, 7, 5, 3, 4], [6, 9, 8, 3, 7, 1, 5, 2, 4], [4, 9, 1, 5, 8, 6, 3, 2, 7]], [[8, 6, 1, 9, 5, 3, 2, 7, 4], [8, 7, 9, 3, 4, 5, 2, 6, 1], [8, 5, 3, 4, 1, 6, 2, 7, 9], [3, 1, 7, 5, 9, 8, 2, 6, 4], [5, 3, 2, 8, 4, 9, 7, 6, 1], [2, 4, 7, 6, 8, 3, 5, 9, 1], [6, 2, 1, 7, 8, 9, 4, 3, 5], [2, 9, 7, 1, 8, 4, 6, 3, 5], [5, 2, 8, 3, 1, 9, 6, 7, 4]], [[1, 8, 7, 2, 4, 6, 3, 5, 9], [5, 9, 8, 3, 7, 2, 1, 6, 4], [5, 8, 1, 2, 3, 7, 9, 6, 4], [1, 4, 7, 9, 5, 6, 8, 2, 3], [1, 4, 6, 7, 2, 3, 5, 9, 8], [7, 4, 6, 3, 5, 8, 2, 1, 9], [3, 5, 6, 4, 2, 9, 7, 1, 8], [2, 4, 5, 3, 1, 6, 7, 9, 8], [1, 9, 3, 6, 4, 8, 5, 2, 7]], [[1, 6, 8, 5, 2, 9, 4, 3, 7], [2, 4, 5, 6, 3, 8, 7, 1, 9], [3, 2, 7, 5, 4, 1, 8, 9, 6], [5, 4, 1, 7, 9, 6, 2, 8, 3], [1, 2, 4, 5, 3, 7, 8, 6, 9], [1, 3, 5, 9, 2, 7, 8, 6, 4], [2, 4, 6, 3, 5, 1, 8, 7, 9], [4, 7, 3, 8, 9, 1, 5, 2, 6], [2, 3, 1, 7, 4, 5, 8, 9, 6]], [[6, 3, 4, 2, 1, 9, 8, 5, 7], [2, 7, 6, 4, 3, 9, 8, 5, 1], [8, 5, 9, 2, 1, 4, 6, 7, 3], [6, 1, 2, 3, 5, 9, 7, 4, 8], [9, 4, 3, 2, 5, 7, 8, 1, 6], [2, 4, 9, 8, 6, 5, 7, 3, 1], [4, 7, 2, 9, 5, 1, 6, 3, 8], [8, 6, 1, 4, 7, 3, 5, 2, 9], [3, 7, 8, 1, 9, 5, 6, 2, 4]], [[7, 9, 5, 1, 2, 6, 4, 3, 8], [3, 5, 8, 2, 6, 4, 9, 7, 1], [6, 7, 3, 1, 4, 2, 8, 5, 9], [9, 3, 4, 8, 6, 5, 7, 1, 2], [9, 1, 4, 3, 8, 7, 6, 2, 5], [5, 7, 4, 8, 2, 3, 1, 6, 9], [4, 2, 8, 7, 5, 3, 6, 9, 1], [3, 2, 4, 9, 8, 7, 5, 6, 1], [6, 9, 2, 8, 3, 5, 4, 1, 7]], [[9, 4, 8, 6, 5, 1, 7, 3, 2], [3, 2, 5, 4, 9, 1, 7, 6, 8], [5, 1, 7, 6, 8, 2, 3, 4, 9], [8, 4, 3, 9, 1, 7, 5, 2, 6], [9, 2, 6, 3, 7, 4, 5, 8, 1], [2, 7, 8, 9, 6, 4, 5, 1, 3], [8, 4, 2, 5, 9, 3, 6, 7, 1], [9, 8, 3, 2, 1, 5, 7, 4, 6], [5, 1, 8, 6, 9, 7, 2, 3, 4]], [[7, 1, 2, 3, 4, 5, 6, 9, 8], [8, 7, 2, 9, 5, 3, 4, 1, 6], [9, 6, 4, 5, 8, 7, 3, 1, 2], [6, 4, 3, 5, 8, 7, 9, 1, 2], [5, 1, 3, 4, 7, 9, 2, 8, 6], [6, 8, 2, 1, 3, 7, 9, 4, 5], [5, 3, 4, 6, 1, 2, 8, 9, 7], [4, 2, 6, 1, 7, 8, 5, 9, 3], [8, 3, 6, 7, 1, 2, 4, 5, 9]]]\n"
     ]
    }
   ],
   "source": [
    "print(make_population(POPULATION))"
   ]
  },
  {
   "cell_type": "markdown",
   "id": "2dce4969",
   "metadata": {},
   "source": [
    "## Part 3: Fitness Function"
   ]
  },
  {
   "cell_type": "markdown",
   "id": "dfe610a8",
   "metadata": {},
   "source": [
    "In this part, the fitness function is implemented to decide the better chromosomes"
   ]
  },
  {
   "cell_type": "code",
   "execution_count": 56,
   "id": "1342ab20",
   "metadata": {},
   "outputs": [],
   "source": [
    "def get_fitness(chromosome):\n",
    "    fitness=0\n",
    "    for i in range(9):\n",
    "        seen={}\n",
    "        for j in range(9):\n",
    "            if chromosome[j][i] in seen:\n",
    "                seen[chromosome[j][i]]+=1\n",
    "            else:\n",
    "                seen[chromosome[j][i]]=1\n",
    "        for key in seen :\n",
    "            fitness-=(seen[key]-1)\n",
    "        #for k in range(1,10):\n",
    "        #    if k not in seen:\n",
    "        #        fitness-=1;\n",
    "    for m in range(3):\n",
    "        for n in range(3):\n",
    "            seen={}\n",
    "            for i in range(3*(n),3*(n+1)):\n",
    "                for j in range(3*(m),3*(m+1)):\n",
    "                    if chromosome[j][i] in seen:\n",
    "                        seen[chromosome[j][i]]+=1\n",
    "                    else:\n",
    "                        seen[chromosome[j][i]]=1\n",
    "            for key in seen :\n",
    "                fitness-=(seen[key]-1)\n",
    "            #for k in range(1,10):\n",
    "            #    if k not in seen:\n",
    "            #        fitness-=1;\n",
    "    return fitness\n",
    "    "
   ]
  },
  {
   "cell_type": "code",
   "execution_count": 58,
   "id": "61981c27",
   "metadata": {},
   "outputs": [
    {
     "name": "stdout",
     "output_type": "stream",
     "text": [
      "-58\n",
      "4 1 8 3 9 2 7 5 6 \n",
      "7 3 4 2 9 5 8 1 6 \n",
      "2 4 3 9 5 1 7 8 6 \n",
      "8 2 1 9 3 6 5 7 4 \n",
      "3 1 7 6 5 9 4 2 8 \n",
      "7 1 9 3 2 6 8 4 5 \n",
      "9 8 2 6 3 4 5 1 7 \n",
      "9 8 7 3 6 2 1 4 5 \n",
      "6 9 3 4 5 7 1 8 2 \n"
     ]
    }
   ],
   "source": [
    "#ch=make_chromosome()\n",
    "print(get_fitness(ch))\n",
    "for i in range(9):\n",
    "    for j in range(9):\n",
    "        print(ch[i][j],end=\" \")\n",
    "    print(\"\")"
   ]
  },
  {
   "cell_type": "code",
   "execution_count": null,
   "id": "1aadec50",
   "metadata": {},
   "outputs": [],
   "source": []
  }
 ],
 "metadata": {
  "kernelspec": {
   "display_name": "Python 3 (ipykernel)",
   "language": "python",
   "name": "python3"
  },
  "language_info": {
   "codemirror_mode": {
    "name": "ipython",
    "version": 3
   },
   "file_extension": ".py",
   "mimetype": "text/x-python",
   "name": "python",
   "nbconvert_exporter": "python",
   "pygments_lexer": "ipython3",
   "version": "3.8.10"
  }
 },
 "nbformat": 4,
 "nbformat_minor": 5
}
