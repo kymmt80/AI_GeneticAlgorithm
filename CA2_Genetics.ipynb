{
 "cells": [
  {
   "cell_type": "markdown",
   "id": "aaedb7dd",
   "metadata": {},
   "source": [
    "# Genetic Algorithm"
   ]
  },
  {
   "cell_type": "markdown",
   "id": "6b295ea8",
   "metadata": {},
   "source": [
    "In this project, the aim is to solve a sudoku puzzle using the genetic algorithm"
   ]
  },
  {
   "cell_type": "code",
   "execution_count": 10,
   "id": "2091ab55",
   "metadata": {},
   "outputs": [],
   "source": [
    "import random as rndm\n",
    "import numpy as np"
   ]
  },
  {
   "cell_type": "markdown",
   "id": "e420b8eb",
   "metadata": {},
   "source": [
    "## Part 1: Defining Genes and Chromosomes"
   ]
  },
  {
   "cell_type": "markdown",
   "id": "ad412d40",
   "metadata": {},
   "source": [
    "A gene is the value of a row and is a premutation of set {1 ... 9}. A chromosome consists of 9 genes, each gene representing a row of the actual sudoku puzzle.\n",
    "Reason TBA"
   ]
  },
  {
   "cell_type": "code",
   "execution_count": 17,
   "id": "9b3903b8",
   "metadata": {},
   "outputs": [],
   "source": [
    "def make_gene():\n",
    "    gene=list(range(1,10));\n",
    "    rndm.shuffle(gene);\n",
    "    return gene;"
   ]
  },
  {
   "cell_type": "code",
   "execution_count": 18,
   "id": "1de40adf",
   "metadata": {},
   "outputs": [],
   "source": [
    "def make_chromosome():\n",
    "    chromosome=[]\n",
    "    for _ in range(9):\n",
    "        chromosome.append(make_gene());\n",
    "    return chromosome"
   ]
  },
  {
   "cell_type": "code",
   "execution_count": 19,
   "id": "7b71fff2",
   "metadata": {},
   "outputs": [
    {
     "name": "stdout",
     "output_type": "stream",
     "text": [
      "[[9, 7, 6, 8, 5, 4, 1, 3, 2], [7, 6, 9, 8, 3, 1, 4, 5, 2], [8, 4, 9, 6, 1, 5, 2, 7, 3], [2, 8, 7, 4, 3, 9, 6, 5, 1], [3, 1, 4, 5, 6, 7, 9, 2, 8], [9, 1, 4, 7, 3, 6, 2, 8, 5], [2, 4, 3, 6, 9, 5, 1, 7, 8], [4, 1, 8, 2, 3, 5, 7, 6, 9], [5, 2, 9, 3, 8, 7, 4, 6, 1]]\n"
     ]
    }
   ],
   "source": [
    "print(make_chromosome())"
   ]
  },
  {
   "cell_type": "markdown",
   "id": "0b6808a2",
   "metadata": {},
   "source": [
    "## Part 2: Making First Generation"
   ]
  },
  {
   "cell_type": "markdown",
   "id": "756c5fe4",
   "metadata": {},
   "source": [
    "In this part, a function is implemented to randomly create a population."
   ]
  },
  {
   "cell_type": "code",
   "execution_count": 22,
   "id": "a7ebc98d",
   "metadata": {},
   "outputs": [],
   "source": [
    "POPULATION=10"
   ]
  },
  {
   "cell_type": "code",
   "execution_count": 26,
   "id": "cf11a24a",
   "metadata": {},
   "outputs": [],
   "source": [
    "def make_population(count):\n",
    "    population=[]\n",
    "    for _ in range(count):\n",
    "        population.append(make_chromosome())\n",
    "    return population"
   ]
  },
  {
   "cell_type": "code",
   "execution_count": 28,
   "id": "8e5d2193",
   "metadata": {},
   "outputs": [
    {
     "name": "stdout",
     "output_type": "stream",
     "text": [
      "[[[4, 6, 7, 2, 9, 5, 3, 8, 1], [5, 4, 3, 9, 2, 6, 7, 8, 1], [7, 1, 2, 6, 3, 8, 4, 9, 5], [9, 7, 8, 3, 1, 5, 4, 2, 6], [1, 5, 6, 3, 7, 9, 4, 2, 8], [3, 8, 2, 4, 6, 7, 9, 1, 5], [4, 7, 2, 8, 3, 5, 6, 9, 1], [6, 4, 8, 2, 7, 5, 3, 9, 1], [2, 9, 1, 7, 8, 6, 5, 4, 3]], [[7, 8, 9, 3, 1, 4, 5, 6, 2], [1, 7, 4, 2, 5, 9, 3, 6, 8], [4, 2, 7, 9, 5, 1, 8, 6, 3], [4, 6, 5, 8, 3, 7, 1, 9, 2], [6, 8, 7, 3, 5, 4, 2, 9, 1], [3, 6, 8, 4, 5, 7, 2, 1, 9], [2, 4, 7, 5, 1, 9, 8, 6, 3], [7, 9, 5, 3, 4, 6, 8, 2, 1], [2, 9, 6, 8, 4, 3, 7, 5, 1]], [[3, 8, 5, 1, 2, 9, 6, 4, 7], [1, 8, 3, 5, 6, 4, 7, 9, 2], [6, 4, 3, 2, 7, 5, 1, 9, 8], [4, 2, 1, 3, 7, 5, 6, 8, 9], [9, 2, 6, 7, 1, 4, 3, 5, 8], [1, 2, 4, 8, 5, 6, 3, 7, 9], [8, 2, 9, 1, 6, 7, 5, 3, 4], [6, 9, 8, 3, 7, 1, 5, 2, 4], [4, 9, 1, 5, 8, 6, 3, 2, 7]], [[8, 6, 1, 9, 5, 3, 2, 7, 4], [8, 7, 9, 3, 4, 5, 2, 6, 1], [8, 5, 3, 4, 1, 6, 2, 7, 9], [3, 1, 7, 5, 9, 8, 2, 6, 4], [5, 3, 2, 8, 4, 9, 7, 6, 1], [2, 4, 7, 6, 8, 3, 5, 9, 1], [6, 2, 1, 7, 8, 9, 4, 3, 5], [2, 9, 7, 1, 8, 4, 6, 3, 5], [5, 2, 8, 3, 1, 9, 6, 7, 4]], [[1, 8, 7, 2, 4, 6, 3, 5, 9], [5, 9, 8, 3, 7, 2, 1, 6, 4], [5, 8, 1, 2, 3, 7, 9, 6, 4], [1, 4, 7, 9, 5, 6, 8, 2, 3], [1, 4, 6, 7, 2, 3, 5, 9, 8], [7, 4, 6, 3, 5, 8, 2, 1, 9], [3, 5, 6, 4, 2, 9, 7, 1, 8], [2, 4, 5, 3, 1, 6, 7, 9, 8], [1, 9, 3, 6, 4, 8, 5, 2, 7]], [[1, 6, 8, 5, 2, 9, 4, 3, 7], [2, 4, 5, 6, 3, 8, 7, 1, 9], [3, 2, 7, 5, 4, 1, 8, 9, 6], [5, 4, 1, 7, 9, 6, 2, 8, 3], [1, 2, 4, 5, 3, 7, 8, 6, 9], [1, 3, 5, 9, 2, 7, 8, 6, 4], [2, 4, 6, 3, 5, 1, 8, 7, 9], [4, 7, 3, 8, 9, 1, 5, 2, 6], [2, 3, 1, 7, 4, 5, 8, 9, 6]], [[6, 3, 4, 2, 1, 9, 8, 5, 7], [2, 7, 6, 4, 3, 9, 8, 5, 1], [8, 5, 9, 2, 1, 4, 6, 7, 3], [6, 1, 2, 3, 5, 9, 7, 4, 8], [9, 4, 3, 2, 5, 7, 8, 1, 6], [2, 4, 9, 8, 6, 5, 7, 3, 1], [4, 7, 2, 9, 5, 1, 6, 3, 8], [8, 6, 1, 4, 7, 3, 5, 2, 9], [3, 7, 8, 1, 9, 5, 6, 2, 4]], [[7, 9, 5, 1, 2, 6, 4, 3, 8], [3, 5, 8, 2, 6, 4, 9, 7, 1], [6, 7, 3, 1, 4, 2, 8, 5, 9], [9, 3, 4, 8, 6, 5, 7, 1, 2], [9, 1, 4, 3, 8, 7, 6, 2, 5], [5, 7, 4, 8, 2, 3, 1, 6, 9], [4, 2, 8, 7, 5, 3, 6, 9, 1], [3, 2, 4, 9, 8, 7, 5, 6, 1], [6, 9, 2, 8, 3, 5, 4, 1, 7]], [[9, 4, 8, 6, 5, 1, 7, 3, 2], [3, 2, 5, 4, 9, 1, 7, 6, 8], [5, 1, 7, 6, 8, 2, 3, 4, 9], [8, 4, 3, 9, 1, 7, 5, 2, 6], [9, 2, 6, 3, 7, 4, 5, 8, 1], [2, 7, 8, 9, 6, 4, 5, 1, 3], [8, 4, 2, 5, 9, 3, 6, 7, 1], [9, 8, 3, 2, 1, 5, 7, 4, 6], [5, 1, 8, 6, 9, 7, 2, 3, 4]], [[7, 1, 2, 3, 4, 5, 6, 9, 8], [8, 7, 2, 9, 5, 3, 4, 1, 6], [9, 6, 4, 5, 8, 7, 3, 1, 2], [6, 4, 3, 5, 8, 7, 9, 1, 2], [5, 1, 3, 4, 7, 9, 2, 8, 6], [6, 8, 2, 1, 3, 7, 9, 4, 5], [5, 3, 4, 6, 1, 2, 8, 9, 7], [4, 2, 6, 1, 7, 8, 5, 9, 3], [8, 3, 6, 7, 1, 2, 4, 5, 9]]]\n"
     ]
    }
   ],
   "source": [
    "print(make_population(POPULATION))"
   ]
  },
  {
   "cell_type": "code",
   "execution_count": null,
   "id": "738133fa",
   "metadata": {},
   "outputs": [],
   "source": []
  },
  {
   "cell_type": "code",
   "execution_count": null,
   "id": "93909e08",
   "metadata": {},
   "outputs": [],
   "source": []
  }
 ],
 "metadata": {
  "kernelspec": {
   "display_name": "Python 3 (ipykernel)",
   "language": "python",
   "name": "python3"
  },
  "language_info": {
   "codemirror_mode": {
    "name": "ipython",
    "version": 3
   },
   "file_extension": ".py",
   "mimetype": "text/x-python",
   "name": "python",
   "nbconvert_exporter": "python",
   "pygments_lexer": "ipython3",
   "version": "3.8.10"
  }
 },
 "nbformat": 4,
 "nbformat_minor": 5
}
